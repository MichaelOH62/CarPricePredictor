{
 "cells": [
  {
   "cell_type": "code",
   "execution_count": 4,
   "metadata": {},
   "outputs": [],
   "source": [
    "import numpy as np\n",
    "import pandas as pd\n",
    "import matplotlib.pyplot as plt\n",
    "from sklearn.model_selection import train_test_split\n",
    "\n",
    "#Cap the rows to 10000\n",
    "num_rows = 10000\n",
    "data = pd.read_csv(\"Kaggle_Data/vehicles.csv\", nrows=num_rows)"
   ]
  },
  {
   "cell_type": "code",
   "execution_count": 5,
   "metadata": {},
   "outputs": [],
   "source": [
    "#Create a dataframe of the dataset, drop useless columns, deal with missing values\n",
    "df = pd.DataFrame(data)\n",
    "df = df.drop(columns=['id', 'url', 'region', 'region_url', 'VIN', 'size', \n",
    "                      'image_url', 'description', 'county', 'lat', 'long',\n",
    "                      'posting_date'], axis=1)\n",
    "df = df.dropna(axis=0, thresh=12)\n",
    "df = df.fillna('')\n",
    "\n",
    "#Rearrange the order of the columns\n",
    "df = df[['manufacturer', 'model', 'year', 'condition', 'cylinders', 'fuel',\n",
    "         'odometer', 'title_status', 'transmission', 'drive', 'type',\n",
    "         'paint_color', 'state', 'price']]\n",
    "\n",
    "#Data X,y split\n",
    "X = pd.DataFrame(df, columns=['manufacturer', 'model', 'year', \n",
    "                                          'condition', 'cylinders', 'fuel',\n",
    "                                          'odometer', 'title_status', \n",
    "                                          'transmission', 'drive', 'type',\n",
    "                                          'paint_color', 'state'])\n",
    "Y = pd.DataFrame(df, columns=['price'])\n",
    "\n",
    "#Convert/encode the string columns to a number\n",
    "X = pd.get_dummies(data=X, drop_first=True)\n",
    "\n",
    "#Split the dataset into training and test subsets\n",
    "X_train, X_test, y_train, y_test = train_test_split(X, Y, test_size=0.2, random_state=1234)"
   ]
  },
  {
   "cell_type": "code",
   "execution_count": 6,
   "metadata": {},
   "outputs": [
    {
     "name": "stdout",
     "output_type": "stream",
     "text": [
      "0.8050715398980324\n"
     ]
    }
   ],
   "source": [
    "from sklearn.ensemble import RandomForestRegressor\n",
    "\n",
    "#Create a random forest regressor and test it's performance to the test data\n",
    "regressor = RandomForestRegressor()\n",
    "regressor.fit(X_train, y_train.values.ravel())\n",
    "\n",
    "#R^2 is approximately 0.81 using random forest regressor\n",
    "print(regressor.score(X_test, y_test))"
   ]
  }
 ],
 "metadata": {
  "kernelspec": {
   "display_name": "Python 3.9.7 64-bit",
   "language": "python",
   "name": "python3"
  },
  "language_info": {
   "codemirror_mode": {
    "name": "ipython",
    "version": 3
   },
   "file_extension": ".py",
   "mimetype": "text/x-python",
   "name": "python",
   "nbconvert_exporter": "python",
   "pygments_lexer": "ipython3",
   "version": "3.9.7"
  },
  "orig_nbformat": 4,
  "vscode": {
   "interpreter": {
    "hash": "2cae62eec936cf918f0add75b1b05592d2e5bcbc5a65ca95d034576f54490e6d"
   }
  }
 },
 "nbformat": 4,
 "nbformat_minor": 2
}
